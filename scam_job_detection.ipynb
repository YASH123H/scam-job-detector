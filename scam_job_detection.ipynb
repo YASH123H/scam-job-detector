{
 "cells": [
  {
   "cell_type": "code",
   "execution_count": 2,
   "metadata": {},
   "outputs": [
    {
     "name": "stdout",
     "output_type": "stream",
     "text": [
      "Collecting pandas\n",
      "  Using cached pandas-2.3.0-cp39-cp39-win_amd64.whl (11.1 MB)\n",
      "Collecting numpy>=1.22.4; python_version < \"3.11\"\n",
      "  Using cached numpy-2.0.2-cp39-cp39-win_amd64.whl (15.9 MB)\n",
      "Collecting pytz>=2020.1\n",
      "  Using cached pytz-2025.2-py2.py3-none-any.whl (509 kB)\n",
      "Collecting tzdata>=2022.7\n",
      "  Using cached tzdata-2025.2-py2.py3-none-any.whl (347 kB)\n",
      "Requirement already satisfied: python-dateutil>=2.8.2 in c:\\users\\rajuo\\onedrive\\desktop\\scam_job_posting\\testenv\\lib\\site-packages (from pandas) (2.9.0.post0)\n",
      "Requirement already satisfied: six>=1.5 in c:\\users\\rajuo\\onedrive\\desktop\\scam_job_posting\\testenv\\lib\\site-packages (from python-dateutil>=2.8.2->pandas) (1.17.0)\n",
      "Installing collected packages: numpy, pytz, tzdata, pandas\n",
      "Successfully installed numpy-2.0.2 pandas-2.3.0 pytz-2025.2 tzdata-2025.2\n",
      "Note: you may need to restart the kernel to use updated packages.\n"
     ]
    },
    {
     "name": "stderr",
     "output_type": "stream",
     "text": [
      "WARNING: You are using pip version 20.2.3; however, version 25.1.1 is available.\n",
      "You should consider upgrading via the 'c:\\Users\\rajuo\\OneDrive\\Desktop\\scam_job_posting\\testenv\\Scripts\\python.exe -m pip install --upgrade pip' command.\n"
     ]
    }
   ],
   "source": [
    "pip install pandas"
   ]
  },
  {
   "cell_type": "code",
   "execution_count": 7,
   "metadata": {},
   "outputs": [
    {
     "name": "stdout",
     "output_type": "stream",
     "text": [
      "Requirement already satisfied: pandas in c:\\users\\rajuo\\onedrive\\desktop\\scam_job_posting\\testenv\\lib\\site-packages (2.3.0)\n",
      "Collecting scikit-learn\n",
      "  Downloading scikit_learn-1.6.1-cp39-cp39-win_amd64.whl (11.2 MB)\n",
      "Collecting streamlit\n",
      "  Using cached streamlit-1.45.1-py3-none-any.whl (9.9 MB)\n",
      "Collecting matplotlib\n",
      "  Downloading matplotlib-3.9.4-cp39-cp39-win_amd64.whl (7.8 MB)\n",
      "Requirement already satisfied: tzdata>=2022.7 in c:\\users\\rajuo\\onedrive\\desktop\\scam_job_posting\\testenv\\lib\\site-packages (from pandas) (2025.2)\n",
      "Requirement already satisfied: python-dateutil>=2.8.2 in c:\\users\\rajuo\\onedrive\\desktop\\scam_job_posting\\testenv\\lib\\site-packages (from pandas) (2.9.0.post0)\n",
      "Requirement already satisfied: numpy>=1.22.4; python_version < \"3.11\" in c:\\users\\rajuo\\onedrive\\desktop\\scam_job_posting\\testenv\\lib\\site-packages (from pandas) (2.0.2)\n",
      "Requirement already satisfied: pytz>=2020.1 in c:\\users\\rajuo\\onedrive\\desktop\\scam_job_posting\\testenv\\lib\\site-packages (from pandas) (2025.2)\n",
      "Collecting threadpoolctl>=3.1.0\n",
      "  Downloading threadpoolctl-3.6.0-py3-none-any.whl (18 kB)\n",
      "Collecting joblib>=1.2.0\n",
      "  Downloading joblib-1.5.1-py3-none-any.whl (307 kB)\n",
      "Collecting scipy>=1.6.0\n",
      "  Downloading scipy-1.13.1-cp39-cp39-win_amd64.whl (46.2 MB)\n",
      "Collecting gitpython!=3.1.19,<4,>=3.0.7\n",
      "  Using cached GitPython-3.1.44-py3-none-any.whl (207 kB)\n",
      "Collecting blinker<2,>=1.5.0\n",
      "  Using cached blinker-1.9.0-py3-none-any.whl (8.5 kB)\n",
      "Collecting click<9,>=7.0\n",
      "  Using cached click-8.1.8-py3-none-any.whl (98 kB)\n",
      "Collecting packaging<25,>=20\n",
      "  Using cached packaging-24.2-py3-none-any.whl (65 kB)\n",
      "Collecting protobuf<7,>=3.20\n",
      "  Using cached protobuf-6.31.1-cp39-cp39-win_amd64.whl (435 kB)\n",
      "Collecting tenacity<10,>=8.1.0\n",
      "  Using cached tenacity-9.1.2-py3-none-any.whl (28 kB)\n",
      "Collecting cachetools<6,>=4.0\n",
      "  Using cached cachetools-5.5.2-py3-none-any.whl (10 kB)\n",
      "Collecting pydeck<1,>=0.8.0b4\n",
      "  Using cached pydeck-0.9.1-py2.py3-none-any.whl (6.9 MB)\n",
      "Collecting watchdog<7,>=2.1.5; platform_system != \"Darwin\"\n",
      "  Using cached watchdog-6.0.0-py3-none-win_amd64.whl (79 kB)\n",
      "Collecting requests<3,>=2.27\n",
      "  Using cached requests-2.32.4-py3-none-any.whl (64 kB)\n",
      "Collecting pillow<12,>=7.1.0\n",
      "  Using cached pillow-11.2.1-cp39-cp39-win_amd64.whl (2.7 MB)\n",
      "Collecting pyarrow>=7.0\n",
      "  Using cached pyarrow-20.0.0-cp39-cp39-win_amd64.whl (25.8 MB)\n",
      "Requirement already satisfied: tornado<7,>=6.0.3 in c:\\users\\rajuo\\onedrive\\desktop\\scam_job_posting\\testenv\\lib\\site-packages (from streamlit) (6.5.1)\n",
      "Requirement already satisfied: typing-extensions<5,>=4.4.0 in c:\\users\\rajuo\\onedrive\\desktop\\scam_job_posting\\testenv\\lib\\site-packages (from streamlit) (4.14.0)\n",
      "Collecting altair<6,>=4.0\n",
      "  Using cached altair-5.5.0-py3-none-any.whl (731 kB)\n",
      "Collecting toml<2,>=0.10.1\n",
      "  Using cached toml-0.10.2-py2.py3-none-any.whl (16 kB)\n",
      "Collecting contourpy>=1.0.1\n",
      "  Downloading contourpy-1.3.0-cp39-cp39-win_amd64.whl (211 kB)\n",
      "Collecting cycler>=0.10\n",
      "  Downloading cycler-0.12.1-py3-none-any.whl (8.3 kB)\n",
      "Collecting pyparsing>=2.3.1\n",
      "  Downloading pyparsing-3.2.3-py3-none-any.whl (111 kB)\n",
      "Collecting kiwisolver>=1.3.1\n",
      "  Downloading kiwisolver-1.4.7-cp39-cp39-win_amd64.whl (55 kB)\n",
      "Collecting importlib-resources>=3.2.0; python_version < \"3.10\"\n",
      "  Downloading importlib_resources-6.5.2-py3-none-any.whl (37 kB)\n",
      "Collecting fonttools>=4.22.0\n",
      "  Downloading fonttools-4.58.4-cp39-cp39-win_amd64.whl (1.5 MB)\n",
      "Requirement already satisfied: six>=1.5 in c:\\users\\rajuo\\onedrive\\desktop\\scam_job_posting\\testenv\\lib\\site-packages (from python-dateutil>=2.8.2->pandas) (1.17.0)\n",
      "Collecting gitdb<5,>=4.0.1\n",
      "  Using cached gitdb-4.0.12-py3-none-any.whl (62 kB)\n",
      "Requirement already satisfied: colorama; platform_system == \"Windows\" in c:\\users\\rajuo\\onedrive\\desktop\\scam_job_posting\\testenv\\lib\\site-packages (from click<9,>=7.0->streamlit) (0.4.6)\n",
      "Collecting jinja2>=2.10.1\n",
      "  Using cached jinja2-3.1.6-py3-none-any.whl (134 kB)\n",
      "Collecting certifi>=2017.4.17\n",
      "  Using cached certifi-2025.4.26-py3-none-any.whl (159 kB)\n",
      "Collecting urllib3<3,>=1.21.1\n",
      "  Using cached urllib3-2.4.0-py3-none-any.whl (128 kB)\n",
      "Collecting idna<4,>=2.5\n",
      "  Using cached idna-3.10-py3-none-any.whl (70 kB)\n",
      "Collecting charset_normalizer<4,>=2\n",
      "  Using cached charset_normalizer-3.4.2-cp39-cp39-win_amd64.whl (105 kB)\n",
      "Collecting narwhals>=1.14.2\n",
      "  Using cached narwhals-1.42.1-py3-none-any.whl (359 kB)\n",
      "Collecting jsonschema>=3.0\n",
      "  Using cached jsonschema-4.24.0-py3-none-any.whl (88 kB)\n",
      "Requirement already satisfied: zipp>=3.1.0; python_version < \"3.10\" in c:\\users\\rajuo\\onedrive\\desktop\\scam_job_posting\\testenv\\lib\\site-packages (from importlib-resources>=3.2.0; python_version < \"3.10\"->matplotlib) (3.23.0)\n",
      "Collecting smmap<6,>=3.0.1\n",
      "  Using cached smmap-5.0.2-py3-none-any.whl (24 kB)\n",
      "Collecting MarkupSafe>=2.0\n",
      "  Using cached MarkupSafe-3.0.2-cp39-cp39-win_amd64.whl (15 kB)\n",
      "Collecting jsonschema-specifications>=2023.03.6\n",
      "  Using cached jsonschema_specifications-2025.4.1-py3-none-any.whl (18 kB)\n",
      "Collecting referencing>=0.28.4\n",
      "  Using cached referencing-0.36.2-py3-none-any.whl (26 kB)\n",
      "Collecting attrs>=22.2.0\n",
      "  Using cached attrs-25.3.0-py3-none-any.whl (63 kB)\n",
      "Collecting rpds-py>=0.7.1\n",
      "  Using cached rpds_py-0.25.1-cp39-cp39-win_amd64.whl (231 kB)\n",
      "Installing collected packages: threadpoolctl, joblib, scipy, scikit-learn, smmap, gitdb, gitpython, blinker, click, packaging, protobuf, tenacity, cachetools, MarkupSafe, jinja2, pydeck, watchdog, certifi, urllib3, idna, charset-normalizer, requests, pillow, pyarrow, narwhals, attrs, rpds-py, referencing, jsonschema-specifications, jsonschema, altair, toml, streamlit, contourpy, cycler, pyparsing, kiwisolver, importlib-resources, fonttools, matplotlib\n",
      "  Attempting uninstall: packaging\n",
      "    Found existing installation: packaging 25.0\n",
      "    Uninstalling packaging-25.0:\n",
      "      Successfully uninstalled packaging-25.0\n",
      "Successfully installed MarkupSafe-3.0.2 altair-5.5.0 attrs-25.3.0 blinker-1.9.0 cachetools-5.5.2 certifi-2025.4.26 charset-normalizer-3.4.2 click-8.1.8 contourpy-1.3.0 cycler-0.12.1 fonttools-4.58.4 gitdb-4.0.12 gitpython-3.1.44 idna-3.10 importlib-resources-6.5.2 jinja2-3.1.6 joblib-1.5.1 jsonschema-4.24.0 jsonschema-specifications-2025.4.1 kiwisolver-1.4.7 matplotlib-3.9.4 narwhals-1.42.1 packaging-24.2 pillow-11.2.1 protobuf-6.31.1 pyarrow-20.0.0 pydeck-0.9.1 pyparsing-3.2.3 referencing-0.36.2 requests-2.32.4 rpds-py-0.25.1 scikit-learn-1.6.1 scipy-1.13.1 smmap-5.0.2 streamlit-1.45.1 tenacity-9.1.2 threadpoolctl-3.6.0 toml-0.10.2 urllib3-2.4.0 watchdog-6.0.0\n",
      "Note: you may need to restart the kernel to use updated packages.\n"
     ]
    },
    {
     "name": "stderr",
     "output_type": "stream",
     "text": [
      "WARNING: You are using pip version 20.2.3; however, version 25.1.1 is available.\n",
      "You should consider upgrading via the 'c:\\Users\\rajuo\\OneDrive\\Desktop\\scam_job_posting\\testenv\\Scripts\\python.exe -m pip install --upgrade pip' command.\n"
     ]
    }
   ],
   "source": [
    "pip install pandas scikit-learn streamlit matplotlib\n"
   ]
  },
  {
   "cell_type": "code",
   "execution_count": 6,
   "metadata": {},
   "outputs": [],
   "source": [
    "import pandas as pd\n",
    "from sklearn.model_selection import train_test_split\n",
    "from sklearn.ensemble import RandomForestClassifier\n",
    "from sklearn.feature_extraction.text import TfidfVectorizer\n",
    "from sklearn.pipeline import Pipeline\n",
    "import joblib"
   ]
  },
  {
   "cell_type": "code",
   "execution_count": 7,
   "metadata": {},
   "outputs": [],
   "source": [
    "df = pd.read_csv('NqndMEyZakuimmFI.csv')"
   ]
  },
  {
   "cell_type": "code",
   "execution_count": 8,
   "metadata": {},
   "outputs": [],
   "source": [
    "# Combine text fields for feature extraction\n",
    "df['text'] = df['title'].fillna('') + ' ' + df['company_profile'].fillna('') + ' ' + df['description'].fillna('') + ' ' + df['requirements'].fillna('')"
   ]
  },
  {
   "cell_type": "code",
   "execution_count": 9,
   "metadata": {},
   "outputs": [],
   "source": [
    "X = df['text']\n",
    "y = df['fraudulent']"
   ]
  },
  {
   "cell_type": "code",
   "execution_count": 10,
   "metadata": {},
   "outputs": [],
   "source": [
    "# Split data\n",
    "X_train, X_test, y_train, y_test = train_test_split(X, y, test_size=0.2, random_state=42)"
   ]
  },
  {
   "cell_type": "code",
   "execution_count": 11,
   "metadata": {},
   "outputs": [],
   "source": [
    "# Build pipeline\n",
    "pipeline = Pipeline([\n",
    "    ('tfidf', TfidfVectorizer(stop_words='english', max_features=5000)),\n",
    "    ('clf', RandomForestClassifier(n_estimators=100, random_state=42))\n",
    "])"
   ]
  },
  {
   "cell_type": "code",
   "execution_count": 12,
   "metadata": {},
   "outputs": [
    {
     "data": {
      "text/plain": [
       "['fraud_job_model.pkl']"
      ]
     },
     "execution_count": 12,
     "metadata": {},
     "output_type": "execute_result"
    }
   ],
   "source": [
    "# Train\n",
    "pipeline.fit(X_train, y_train)\n",
    "\n",
    "# Save model\n",
    "joblib.dump(pipeline, 'fraud_job_model.pkl')"
   ]
  },
  {
   "cell_type": "code",
   "execution_count": 13,
   "metadata": {},
   "outputs": [],
   "source": [
    "# Generate predictions\n",
    "y_pred = pipeline.predict(X_test)\n",
    "y_proba = pipeline.predict_proba(X_test)[:,1]"
   ]
  },
  {
   "cell_type": "code",
   "execution_count": 14,
   "metadata": {},
   "outputs": [],
   "source": [
    "from sklearn.metrics import accuracy_score, precision_score, recall_score, f1_score, confusion_matrix, classification_report"
   ]
  },
  {
   "cell_type": "code",
   "execution_count": 15,
   "metadata": {},
   "outputs": [
    {
     "name": "stdout",
     "output_type": "stream",
     "text": [
      "\n",
      "========================================\n",
      "Model Evaluation Metrics\n",
      "========================================\n"
     ]
    }
   ],
   "source": [
    "# Calculate metrics\n",
    "print(\"\\n\" + \"=\"*40)\n",
    "print(\"Model Evaluation Metrics\")\n",
    "print(\"=\"*40)\n",
    "\n",
    "accuracy = accuracy_score(y_test, y_pred)\n",
    "precision = precision_score(y_test, y_pred)\n",
    "recall = recall_score(y_test, y_pred)\n",
    "f1 = f1_score(y_test, y_pred)"
   ]
  },
  {
   "cell_type": "code",
   "execution_count": 16,
   "metadata": {},
   "outputs": [
    {
     "name": "stdout",
     "output_type": "stream",
     "text": [
      "Accuracy: 0.9797  - Overall correctness\n",
      "Precision: 1.0000 - Avoid false positives (legitimate jobs flagged as fraud)\n",
      "Recall: 0.5469 - Detect true frauds effectively\n",
      "F1 Score: 0.7071 - Balance between precision and recall\n",
      "\n",
      "Confusion Matrix:\n",
      "\n",
      "          Predicted 0  Predicted 1\n",
      "Actual 0    2733           0\n",
      "Actual 1      58          70\n",
      "\n"
     ]
    }
   ],
   "source": [
    "print(f\"Accuracy: {accuracy:.4f}  - Overall correctness\")\n",
    "print(f\"Precision: {precision:.4f} - Avoid false positives (legitimate jobs flagged as fraud)\")\n",
    "print(f\"Recall: {recall:.4f} - Detect true frauds effectively\")\n",
    "print(f\"F1 Score: {f1:.4f} - Balance between precision and recall\")\n",
    "\n",
    "# Confusion matrix\n",
    "print(\"\\nConfusion Matrix:\")\n",
    "cm = confusion_matrix(y_test, y_pred)\n",
    "print(f\"\"\"\n",
    "          Predicted 0  Predicted 1\n",
    "Actual 0    {cm[0,0]:4d}        {cm[0,1]:4d}\n",
    "Actual 1    {cm[1,0]:4d}        {cm[1,1]:4d}\n",
    "\"\"\")"
   ]
  },
  {
   "cell_type": "code",
   "execution_count": 21,
   "metadata": {},
   "outputs": [
    {
     "name": "stdout",
     "output_type": "stream",
     "text": [
      "Collecting shap\n",
      "  Using cached shap-0.48.0-cp312-cp312-win_amd64.whl.metadata (25 kB)\n",
      "Requirement already satisfied: numpy in c:\\users\\yash1\\downloads\\scam_job_posting\\scam_job_posting\\venv\\lib\\site-packages (from shap) (2.3.0)\n",
      "Requirement already satisfied: scipy in c:\\users\\yash1\\downloads\\scam_job_posting\\scam_job_posting\\venv\\lib\\site-packages (from shap) (1.15.3)\n",
      "Requirement already satisfied: scikit-learn in c:\\users\\yash1\\downloads\\scam_job_posting\\scam_job_posting\\venv\\lib\\site-packages (from shap) (1.7.0)\n",
      "Requirement already satisfied: pandas in c:\\users\\yash1\\downloads\\scam_job_posting\\scam_job_posting\\venv\\lib\\site-packages (from shap) (2.3.0)\n",
      "Collecting tqdm>=4.27.0 (from shap)\n",
      "  Using cached tqdm-4.67.1-py3-none-any.whl.metadata (57 kB)\n",
      "Requirement already satisfied: packaging>20.9 in c:\\users\\yash1\\downloads\\scam_job_posting\\scam_job_posting\\venv\\lib\\site-packages (from shap) (24.2)\n",
      "Collecting slicer==0.0.8 (from shap)\n",
      "  Using cached slicer-0.0.8-py3-none-any.whl.metadata (4.0 kB)\n",
      "Collecting numba>=0.54 (from shap)\n",
      "  Using cached numba-0.61.2-cp312-cp312-win_amd64.whl.metadata (2.9 kB)\n",
      "Collecting cloudpickle (from shap)\n",
      "  Using cached cloudpickle-3.1.1-py3-none-any.whl.metadata (7.1 kB)\n",
      "Requirement already satisfied: typing-extensions in c:\\users\\yash1\\downloads\\scam_job_posting\\scam_job_posting\\venv\\lib\\site-packages (from shap) (4.14.0)\n",
      "Collecting llvmlite<0.45,>=0.44.0dev0 (from numba>=0.54->shap)\n",
      "  Using cached llvmlite-0.44.0-cp312-cp312-win_amd64.whl.metadata (5.0 kB)\n",
      "Collecting numpy (from shap)\n",
      "  Downloading numpy-2.2.6-cp312-cp312-win_amd64.whl.metadata (60 kB)\n",
      "     ---------------------------------------- 0.0/60.8 kB ? eta -:--:--\n",
      "     ------ --------------------------------- 10.2/60.8 kB ? eta -:--:--\n",
      "     ------------ ------------------------- 20.5/60.8 kB 131.3 kB/s eta 0:00:01\n",
      "     ------------ ------------------------- 20.5/60.8 kB 131.3 kB/s eta 0:00:01\n",
      "     ------------ ------------------------- 20.5/60.8 kB 131.3 kB/s eta 0:00:01\n",
      "     ------------ ------------------------- 20.5/60.8 kB 131.3 kB/s eta 0:00:01\n",
      "     -------------------------------------- 60.8/60.8 kB 216.3 kB/s eta 0:00:00\n",
      "Requirement already satisfied: colorama in c:\\users\\yash1\\downloads\\scam_job_posting\\scam_job_posting\\venv\\lib\\site-packages (from tqdm>=4.27.0->shap) (0.4.6)\n",
      "Requirement already satisfied: python-dateutil>=2.8.2 in c:\\users\\yash1\\downloads\\scam_job_posting\\scam_job_posting\\venv\\lib\\site-packages (from pandas->shap) (2.9.0.post0)\n",
      "Requirement already satisfied: pytz>=2020.1 in c:\\users\\yash1\\downloads\\scam_job_posting\\scam_job_posting\\venv\\lib\\site-packages (from pandas->shap) (2025.2)\n",
      "Requirement already satisfied: tzdata>=2022.7 in c:\\users\\yash1\\downloads\\scam_job_posting\\scam_job_posting\\venv\\lib\\site-packages (from pandas->shap) (2025.2)\n",
      "Requirement already satisfied: joblib>=1.2.0 in c:\\users\\yash1\\downloads\\scam_job_posting\\scam_job_posting\\venv\\lib\\site-packages (from scikit-learn->shap) (1.5.1)\n",
      "Requirement already satisfied: threadpoolctl>=3.1.0 in c:\\users\\yash1\\downloads\\scam_job_posting\\scam_job_posting\\venv\\lib\\site-packages (from scikit-learn->shap) (3.6.0)\n",
      "Requirement already satisfied: six>=1.5 in c:\\users\\yash1\\downloads\\scam_job_posting\\scam_job_posting\\venv\\lib\\site-packages (from python-dateutil>=2.8.2->pandas->shap) (1.17.0)\n",
      "Using cached shap-0.48.0-cp312-cp312-win_amd64.whl (545 kB)\n",
      "Using cached slicer-0.0.8-py3-none-any.whl (15 kB)\n",
      "Using cached numba-0.61.2-cp312-cp312-win_amd64.whl (2.8 MB)\n",
      "Downloading numpy-2.2.6-cp312-cp312-win_amd64.whl (12.6 MB)\n",
      "   ---------------------------------------- 0.0/12.6 MB ? eta -:--:--\n",
      "   ---------------------------------------- 0.0/12.6 MB ? eta -:--:--\n",
      "   ---------------------------------------- 0.0/12.6 MB ? eta -:--:--\n",
      "   ---------------------------------------- 0.1/12.6 MB ? eta -:--:--\n",
      "   ---------------------------------------- 0.1/12.6 MB ? eta -:--:--\n",
      "   ---------------------------------------- 0.1/12.6 MB ? eta -:--:--\n",
      "   ---------------------------------------- 0.1/12.6 MB 950.9 kB/s eta 0:00:14\n",
      "    --------------------------------------- 0.2/12.6 MB 1.0 MB/s eta 0:00:12\n",
      "    --------------------------------------- 0.3/12.6 MB 1.0 MB/s eta 0:00:13\n",
      "   - -------------------------------------- 0.4/12.6 MB 1.5 MB/s eta 0:00:09\n",
      "   -- ------------------------------------- 0.7/12.6 MB 1.9 MB/s eta 0:00:07\n",
      "   ---- ----------------------------------- 1.3/12.6 MB 3.4 MB/s eta 0:00:04\n",
      "   ----- ---------------------------------- 1.8/12.6 MB 4.1 MB/s eta 0:00:03\n",
      "   ------ --------------------------------- 2.0/12.6 MB 4.4 MB/s eta 0:00:03\n",
      "   ------- -------------------------------- 2.4/12.6 MB 4.7 MB/s eta 0:00:03\n",
      "   ------- -------------------------------- 2.5/12.6 MB 4.5 MB/s eta 0:00:03\n",
      "   -------- ------------------------------- 2.6/12.6 MB 4.3 MB/s eta 0:00:03\n",
      "   --------- ------------------------------ 3.0/12.6 MB 4.5 MB/s eta 0:00:03\n",
      "   ---------- ----------------------------- 3.3/12.6 MB 4.7 MB/s eta 0:00:02\n",
      "   ---------- ----------------------------- 3.4/12.6 MB 4.7 MB/s eta 0:00:02\n",
      "   ----------- ---------------------------- 3.6/12.6 MB 4.6 MB/s eta 0:00:02\n",
      "   ------------ --------------------------- 3.9/12.6 MB 4.7 MB/s eta 0:00:02\n",
      "   ------------- -------------------------- 4.1/12.6 MB 4.7 MB/s eta 0:00:02\n",
      "   -------------- ------------------------- 4.4/12.6 MB 4.8 MB/s eta 0:00:02\n",
      "   -------------- ------------------------- 4.7/12.6 MB 4.8 MB/s eta 0:00:02\n",
      "   --------------- ------------------------ 5.0/12.6 MB 4.8 MB/s eta 0:00:02\n",
      "   ----------------- ---------------------- 5.5/12.6 MB 5.1 MB/s eta 0:00:02\n",
      "   ------------------ --------------------- 5.9/12.6 MB 5.2 MB/s eta 0:00:02\n",
      "   ------------------- -------------------- 6.3/12.6 MB 5.4 MB/s eta 0:00:02\n",
      "   --------------------- ------------------ 6.7/12.6 MB 5.6 MB/s eta 0:00:02\n",
      "   ---------------------- ----------------- 7.1/12.6 MB 5.7 MB/s eta 0:00:01\n",
      "   ----------------------- ---------------- 7.5/12.6 MB 5.7 MB/s eta 0:00:01\n",
      "   ------------------------ --------------- 7.9/12.6 MB 5.8 MB/s eta 0:00:01\n",
      "   -------------------------- ------------- 8.3/12.6 MB 5.9 MB/s eta 0:00:01\n",
      "   --------------------------- ------------ 8.6/12.6 MB 6.0 MB/s eta 0:00:01\n",
      "   ---------------------------- ----------- 9.0/12.6 MB 6.1 MB/s eta 0:00:01\n",
      "   ----------------------------- ---------- 9.4/12.6 MB 6.1 MB/s eta 0:00:01\n",
      "   ------------------------------- -------- 9.9/12.6 MB 6.2 MB/s eta 0:00:01\n",
      "   -------------------------------- ------- 10.1/12.6 MB 6.2 MB/s eta 0:00:01\n",
      "   --------------------------------- ------ 10.6/12.6 MB 7.4 MB/s eta 0:00:01\n",
      "   ---------------------------------- ----- 10.9/12.6 MB 7.4 MB/s eta 0:00:01\n",
      "   ------------------------------------ --- 11.4/12.6 MB 7.4 MB/s eta 0:00:01\n",
      "   ------------------------------------- -- 11.7/12.6 MB 7.4 MB/s eta 0:00:01\n",
      "   -------------------------------------- - 12.1/12.6 MB 7.2 MB/s eta 0:00:01\n",
      "   ---------------------------------------  12.5/12.6 MB 7.3 MB/s eta 0:00:01\n",
      "   ---------------------------------------  12.6/12.6 MB 7.2 MB/s eta 0:00:01\n",
      "   ---------------------------------------- 12.6/12.6 MB 7.2 MB/s eta 0:00:00\n",
      "Using cached tqdm-4.67.1-py3-none-any.whl (78 kB)\n",
      "Using cached cloudpickle-3.1.1-py3-none-any.whl (20 kB)\n",
      "Using cached llvmlite-0.44.0-cp312-cp312-win_amd64.whl (30.3 MB)\n",
      "Installing collected packages: tqdm, slicer, numpy, llvmlite, cloudpickle, numba, shap\n",
      "  Attempting uninstall: numpy\n",
      "    Found existing installation: numpy 2.3.0\n",
      "    Uninstalling numpy-2.3.0:\n",
      "      Successfully uninstalled numpy-2.3.0\n",
      "Successfully installed cloudpickle-3.1.1 llvmlite-0.44.0 numba-0.61.2 numpy-2.2.6 shap-0.48.0 slicer-0.0.8 tqdm-4.67.1\n",
      "Note: you may need to restart the kernel to use updated packages.\n"
     ]
    },
    {
     "name": "stderr",
     "output_type": "stream",
     "text": [
      "  WARNING: Failed to remove contents in a temporary directory 'C:\\Users\\yash1\\Downloads\\scam_job_posting\\scam_job_posting\\venv\\Lib\\site-packages\\~umpy.libs'.\n",
      "  You can safely remove it manually.\n",
      "  WARNING: Failed to remove contents in a temporary directory 'C:\\Users\\yash1\\Downloads\\scam_job_posting\\scam_job_posting\\venv\\Lib\\site-packages\\~umpy'.\n",
      "  You can safely remove it manually.\n",
      "\n",
      "[notice] A new release of pip is available: 24.0 -> 25.1.1\n",
      "[notice] To update, run: python.exe -m pip install --upgrade pip\n"
     ]
    }
   ],
   "source": [
    "pip install shap\n"
   ]
  },
  {
   "cell_type": "code",
   "execution_count": 26,
   "metadata": {},
   "outputs": [
    {
     "name": "stdout",
     "output_type": "stream",
     "text": [
      "Figure(800x230)\n"
     ]
    }
   ],
   "source": [
    "\n",
    "!python shap_explainer.py\n"
   ]
  },
  {
   "cell_type": "code",
   "execution_count": 17,
   "metadata": {},
   "outputs": [
    {
     "name": "stdout",
     "output_type": "stream",
     "text": [
      "\n",
      "Detailed Classification Report:\n",
      "              precision    recall  f1-score   support\n",
      "\n",
      "           0       0.98      1.00      0.99      2733\n",
      "           1       1.00      0.55      0.71       128\n",
      "\n",
      "    accuracy                           0.98      2861\n",
      "   macro avg       0.99      0.77      0.85      2861\n",
      "weighted avg       0.98      0.98      0.98      2861\n",
      "\n"
     ]
    }
   ],
   "source": [
    "# Classification report\n",
    "print(\"\\nDetailed Classification Report:\")\n",
    "print(classification_report(y_test, y_pred))"
   ]
  },
  {
   "cell_type": "code",
   "execution_count": 1,
   "metadata": {},
   "outputs": [],
   "source": [
    "from sklearn.pipeline import Pipeline\n",
    "from sklearn.feature_extraction.text import TfidfVectorizer\n",
    "from sklearn.ensemble import RandomForestClassifier\n",
    "\n",
    "pipeline = Pipeline([\n",
    "    ('tfidf', TfidfVectorizer(stop_words='english', max_features=5000)),\n",
    "    ('clf', RandomForestClassifier(n_estimators=100, random_state=42))\n",
    "])\n"
   ]
  },
  {
   "cell_type": "code",
   "execution_count": 18,
   "metadata": {},
   "outputs": [
    {
     "name": "stdout",
     "output_type": "stream",
     "text": [
      "Cross-validated F1 Scores: [0.73394495 0.71559633 0.66985646 0.73873874 0.73394495]\n",
      "Mean F1 Score: 0.7184162873201985\n"
     ]
    }
   ],
   "source": [
    "from sklearn.model_selection import cross_val_score\n",
    "\n",
    "# Compute 5-Fold Cross-Validation F1 Score\n",
    "cv_f1_scores = cross_val_score(pipeline, X, y, cv=5, scoring='f1')\n",
    "print(\"Cross-validated F1 Scores:\", cv_f1_scores)\n",
    "print(\"Mean F1 Score:\", cv_f1_scores.mean())\n",
    "\n"
   ]
  },
  {
   "cell_type": "code",
   "execution_count": 19,
   "metadata": {},
   "outputs": [
    {
     "name": "stdout",
     "output_type": "stream",
     "text": [
      "Requirement already satisfied: matplotlib in c:\\users\\yash1\\downloads\\scam_job_posting\\scam_job_posting\\venv\\lib\\site-packages (3.10.3)\n",
      "Requirement already satisfied: contourpy>=1.0.1 in c:\\users\\yash1\\downloads\\scam_job_posting\\scam_job_posting\\venv\\lib\\site-packages (from matplotlib) (1.3.2)\n",
      "Requirement already satisfied: cycler>=0.10 in c:\\users\\yash1\\downloads\\scam_job_posting\\scam_job_posting\\venv\\lib\\site-packages (from matplotlib) (0.12.1)\n",
      "Requirement already satisfied: fonttools>=4.22.0 in c:\\users\\yash1\\downloads\\scam_job_posting\\scam_job_posting\\venv\\lib\\site-packages (from matplotlib) (4.58.4)\n",
      "Requirement already satisfied: kiwisolver>=1.3.1 in c:\\users\\yash1\\downloads\\scam_job_posting\\scam_job_posting\\venv\\lib\\site-packages (from matplotlib) (1.4.8)\n",
      "Requirement already satisfied: numpy>=1.23 in c:\\users\\yash1\\downloads\\scam_job_posting\\scam_job_posting\\venv\\lib\\site-packages (from matplotlib) (2.3.0)\n",
      "Requirement already satisfied: packaging>=20.0 in c:\\users\\yash1\\downloads\\scam_job_posting\\scam_job_posting\\venv\\lib\\site-packages (from matplotlib) (24.2)\n",
      "Requirement already satisfied: pillow>=8 in c:\\users\\yash1\\downloads\\scam_job_posting\\scam_job_posting\\venv\\lib\\site-packages (from matplotlib) (11.2.1)\n",
      "Requirement already satisfied: pyparsing>=2.3.1 in c:\\users\\yash1\\downloads\\scam_job_posting\\scam_job_posting\\venv\\lib\\site-packages (from matplotlib) (3.2.3)\n",
      "Requirement already satisfied: python-dateutil>=2.7 in c:\\users\\yash1\\downloads\\scam_job_posting\\scam_job_posting\\venv\\lib\\site-packages (from matplotlib) (2.9.0.post0)\n",
      "Requirement already satisfied: six>=1.5 in c:\\users\\yash1\\downloads\\scam_job_posting\\scam_job_posting\\venv\\lib\\site-packages (from python-dateutil>=2.7->matplotlib) (1.17.0)\n",
      "Note: you may need to restart the kernel to use updated packages.\n"
     ]
    },
    {
     "name": "stderr",
     "output_type": "stream",
     "text": [
      "\n",
      "[notice] A new release of pip is available: 24.0 -> 25.1.1\n",
      "[notice] To update, run: python.exe -m pip install --upgrade pip\n"
     ]
    }
   ],
   "source": [
    "pip install matplotlib"
   ]
  }
 ],
 "metadata": {
  "kernelspec": {
   "display_name": "venv",
   "language": "python",
   "name": "python3"
  },
  "language_info": {
   "codemirror_mode": {
    "name": "ipython",
    "version": 3
   },
   "file_extension": ".py",
   "mimetype": "text/x-python",
   "name": "python",
   "nbconvert_exporter": "python",
   "pygments_lexer": "ipython3",
   "version": "3.12.3"
  }
 },
 "nbformat": 4,
 "nbformat_minor": 2
}
